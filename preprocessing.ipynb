{
  "nbformat": 4,
  "nbformat_minor": 0,
  "metadata": {
    "colab": {
      "name": "preprocessing.ipynb",
      "provenance": [],
      "collapsed_sections": []
    },
    "kernelspec": {
      "name": "python3",
      "display_name": "Python 3"
    },
    "language_info": {
      "name": "python"
    }
  },
  "cells": [
    {
      "cell_type": "markdown",
      "source": [
        "#Preprocessing Data"
      ],
      "metadata": {
        "id": "bXDVKat526dK"
      }
    },
    {
      "cell_type": "markdown",
      "source": [
        "Getting 13100 datafiles of each Lsize and making one dataframe"
      ],
      "metadata": {
        "id": "2MXq2yXI3vA0"
      }
    },
    {
      "cell_type": "code",
      "source": [
        "#basic libraries\n",
        "import os\n",
        "import pandas as pd"
      ],
      "metadata": {
        "id": "moOeNBKJ2z17"
      },
      "execution_count": null,
      "outputs": []
    },
    {
      "cell_type": "markdown",
      "source": [
        "###Funcs"
      ],
      "metadata": {
        "id": "pXHEGoCf3NuA"
      }
    },
    {
      "cell_type": "code",
      "execution_count": null,
      "metadata": {
        "id": "DY_Q5ZFw2LPC"
      },
      "outputs": [],
      "source": [
        "#Read data from spath and return an matrix X = (Nsamples, Lzize^2)\n",
        "def read_data(spath, Lsize):\n",
        "  samples = pd.DataFrame()\n",
        "\n",
        "  for data in os.listdir(spath):\n",
        "    array = np.loadtxt(spath+data)\n",
        "    size = array.shape[0]\n",
        "    cols = Lsize*Lsize\n",
        "    rows = 1\n",
        "    array_reshape = array.reshape(rows, cols)\n",
        "\n",
        "    try:\n",
        "      TEMP = float(data.split('T')[1].split('L')[0])\n",
        "    except:\n",
        "      TEMP = data\n",
        "    try:\n",
        "      M = float(data.split('M')[1].split('E')[0])\n",
        "    except:\n",
        "      M = data\n",
        "    try:\n",
        "      E = float(data.split('E')[1].split('S')[0])\n",
        "    except:\n",
        "      E = data\n",
        "\n",
        "    _ = pd.DataFrame(array_reshape)\n",
        "    _['TEMP'] = TEMP\n",
        "    _['M'] = M\n",
        "    _['E'] = E\n",
        "\n",
        "    samples = samples.append(_)\n",
        "\n",
        "  samples.reset_index(drop = True, inplace = True)\n",
        "\n",
        "  print(\"Data from\", spath, \"-- ok\")\n",
        "\n",
        "  return samples\n",
        "\n",
        "#Check problems with data\n",
        "def check_problems(samples):\n",
        "  for i in range(samples.shape[0]):\n",
        "    t = ising_samples80['TEMP'].iloc[i]\n",
        "    m  = ising_samples80['M'].iloc[i]\n",
        "    e = ising_samples80['E'].iloc[i]\n",
        "\n",
        "    try:\n",
        "      float(t)\n",
        "    except:\n",
        "      print(f'Problem in T {i}', t)\n",
        "    try:\n",
        "      float(m)\n",
        "    except:\n",
        "      print(f'Problem in M {i}', m)\n",
        "    try:\n",
        "      float(e)\n",
        "    except:\n",
        "      print(f'Problem in E {i}', e)"
      ]
    },
    {
      "cell_type": "markdown",
      "source": [
        "###Using funcs"
      ],
      "metadata": {
        "id": "SaF999ff3QwB"
      }
    },
    {
      "cell_type": "code",
      "source": [
        "#definitions\n",
        "L20 = 20      #LSIZE\n",
        "data_path20 = \"/content/gdrive/Shareddrives/IA - Física/Pedro Mendes/wang2016/ising/L20_2/\"\n",
        "save_path20 = \"/content/gdrive/Shareddrives/IA - Física/Pedro Mendes/wang2016/ising/df20.csv\"\n",
        "L40 = 40      #LSIZE\n",
        "data_path40 = \"/content/gdrive/Shareddrives/IA - Física/Pedro Mendes/wang2016/ising/L40_2/\"\n",
        "save_path40 = \"/content/gdrive/Shareddrives/IA - Física/Pedro Mendes/wang2016/ising/df40.csv\"\n",
        "L80 = 80      #LSIZE\n",
        "data_path80 = \"/content/gdrive/Shareddrives/IA - Física/Pedro Mendes/wang2016/ising/L80_2/\"\n",
        "save_path80 = \"/content/gdrive/Shareddrives/IA - Física/Pedro Mendes/wang2016/ising/df80.csv\"\n",
        "\n",
        "##Reading the data and storing the matrix X\n",
        "ising_samples20 = read_data(data_path20, L20)\n",
        "ising_samples20.to_csv(save_path20, index=False)\n",
        "\n",
        "ising_samples40 = read_data(data_path40, L40)\n",
        "ising_samples40.to_csv(save_path40, index=False)\n",
        "\n",
        "ising_samples80 = read_data(data_path80, L80)\n",
        "ising_samples80.to_csv(save_path80, index=False)\n",
        "\n",
        "#one of our data has a problem?\n",
        "check_problems(ising_samples20)\n",
        "check_problems(ising_samples40)\n",
        "check_problems(ising_samples80)"
      ],
      "metadata": {
        "id": "SuPueY6M2xs3"
      },
      "execution_count": null,
      "outputs": []
    }
  ]
}